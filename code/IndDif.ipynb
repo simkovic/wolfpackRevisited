{
 "metadata": {
  "name": ""
 },
 "nbformat": 3,
 "nbformat_minor": 0,
 "worksheets": [
  {
   "cells": [
    {
     "cell_type": "code",
     "collapsed": false,
     "input": [
      "%pylab inline\n",
      "%pylab --no-import-all\n",
      "import numpy as np\n",
      "import pylab as plt\n",
      "from  matusplotlib.plottingroutines import *\n",
      "from scipy.stats import scoreatpercentile as sap\n",
      "from scipy import stats\n",
      "from Evaluation import *"
     ],
     "language": "python",
     "metadata": {},
     "outputs": [
      {
       "output_type": "stream",
       "stream": "stdout",
       "text": [
        "Populating the interactive namespace from numpy and matplotlib\n",
        "Using matplotlib backend: module://IPython.kernel.zmq.pylab.backend_inline\n",
        "Populating the interactive namespace from numpy and matplotlib\n"
       ]
      },
      {
       "output_type": "stream",
       "stream": "stderr",
       "text": [
        "WARNING: pylab import has clobbered these variables: ['figure', 'subplot', 'plt', 'errorbar']\n",
        "`%pylab --no-import-all` prevents importing * from pylab and numpy\n"
       ]
      }
     ],
     "prompt_number": 1
    },
    {
     "cell_type": "markdown",
     "metadata": {},
     "source": [
      "First we will work with the subject level estimate  of the hierarchical models. Note, that the  hierarchical models pull the estimates toward the sample mean. This balances the evidence from trials for the particular subject and evidence from other subjects. (See Kruschkes Bayesian Data Analysis Chapter 10 for more details.) Differences due to individual factors will be also corrected. Any analysis based on estimates from hierarchical models thus will be very conservative. \n",
      "\n",
      "Let's first compare the estimated effects across tasks"
     ]
    },
    {
     "cell_type": "code",
     "collapsed": false,
     "input": [
      "plotComp()"
     ],
     "language": "python",
     "metadata": {},
     "outputs": [
      {
       "output_type": "stream",
       "stream": "stdout",
       "text": [
        " 0.063 CI [-0.159, 0.286]\n",
        " 0.012 CI [-0.092, 0.116]"
       ]
      },
      {
       "output_type": "stream",
       "stream": "stdout",
       "text": [
        "\n",
        " 0.021 CI [-0.090, 0.132]"
       ]
      },
      {
       "output_type": "stream",
       "stream": "stdout",
       "text": [
        "\n",
        " 0.199 CI [0.079, 0.320]"
       ]
      },
      {
       "output_type": "stream",
       "stream": "stdout",
       "text": [
        "\n",
        " 0.219 CI [0.153, 0.284]"
       ]
      },
      {
       "output_type": "stream",
       "stream": "stderr",
       "text": [
        "/usr/lib/python2.7/dist-packages/numpy/core/fromnumeric.py:2374: RuntimeWarning: invalid value encountered in double_scalars\n",
        "  return mean(axis, dtype, out)\n",
        "/usr/local/lib/python2.7/dist-packages/matplotlib-1.3.1-py2.7-linux-i686.egg/matplotlib/figure.py:1595: UserWarning: This figure includes Axes that are not compatible with tight_layout, so its results might be incorrect.\n",
        "  warnings.warn(\"This figure includes Axes that are not \"\n"
       ]
      },
      {
       "output_type": "stream",
       "stream": "stdout",
       "text": [
        "\n"
       ]
      },
      {
       "metadata": {},
       "output_type": "display_data",
       "png": "[encoded data removed]",
       "text": [
        "<matplotlib.figure.Figure at 0xbe55d4c>"
       ]
      }
     ],
     "prompt_number": 2
    },
    {
     "cell_type": "markdown",
     "metadata": {},
     "source": [
      "We will use only data from experiments with darts and we will at first confine our analyses to subjects from whom we have data from all blocks/tasks"
     ]
    },
    {
     "cell_type": "code",
     "collapsed": false,
     "input": [
      "w=loadStanFit('E2B2WHreg.fit')\n",
      "b2=(w['a0']-0.5)/w['a1']\n",
      "temp=np.zeros((np.min((np.abs(b2)<1).sum(0)),b2.shape[1]))\n",
      "for i in range(b2.shape[1]):#discard extreme values\n",
      "    temp[:,i]=b2[np.abs(b2[:,i])<1,i][:temp.shape[0]]\n",
      "b2=temp\n",
      "w=loadStanFit('E2B2LHregCa.fit')\n",
      "b1=w['r0']\n",
      "w=loadStanFit('E2B3BHreg.fit')\n",
      "b3=w['mu'][:,:,0]\n",
      "vpn=range(351,381); vpn.remove(369); vpn.remove(370)\n",
      "B3,B4,B5=loadDataB345(vpn,correct=False)\n",
      "b4=plotB5([B5],[vpn],exps=[2])\n",
      "plt.close()\n",
      "b5=np.median(b4[1][0],1)\n",
      "b4=np.median(b4[0][0],1)\n",
      "valid= ~np.isnan(b4)\n",
      "b1=b1[:,valid]; b2=b2[:,valid];b3=b3[:,valid[~np.isnan(B3[:,0,0])]];b4=b4[valid];b5=b5[valid]\n",
      "mn=np.min([b1.shape[0],b2.shape[0],b3.shape[0]])\n",
      "b1=b1[:mn,:]; b2=b2[:mn,:]; b3=b3[:mn,:]; \n",
      "print b1.shape,b2.shape,b3.shape,b4.shape,b5.shape"
     ],
     "language": "python",
     "metadata": {},
     "outputs": [
      {
       "output_type": "stream",
       "stream": "stdout",
       "text": [
        " 0.199 CI [0.079, 0.320]\n",
        " 0.219 CI [0.153, 0.284]"
       ]
      },
      {
       "output_type": "stream",
       "stream": "stdout",
       "text": [
        "\n",
        "(5802, 23)"
       ]
      },
      {
       "output_type": "stream",
       "stream": "stdout",
       "text": [
        " (5802, 23) (5802, 23) (23,) (23,)\n"
       ]
      },
      {
       "output_type": "stream",
       "stream": "stderr",
       "text": [
        "/usr/lib/python2.7/dist-packages/numpy/core/fromnumeric.py:2374: RuntimeWarning: invalid value encountered in double_scalars\n",
        "  return mean(axis, dtype, out)\n"
       ]
      }
     ],
     "prompt_number": 3
    },
    {
     "cell_type": "code",
     "collapsed": false,
     "input": [
      "import pystan\n",
      "model = \"\"\"\n",
      "data {\n",
      "    int<lower=0> N; // number of subjects\n",
      "    int<lower=0> T; // number of data points\n",
      "    vector[T] B1[N]; \n",
      "    vector[T] B2[N];\n",
      "    vector[T] B3[N];\n",
      "}\n",
      "parameters {\n",
      "    //real<lower=-10,upper=10> m1[N];real<lower=-10,upper=10> m2[N];\n",
      "    real<lower=-1,upper=1> mm1;\n",
      "    real<lower=-1,upper=1> mm2;\n",
      "    //real<lower=0,upper=10> sm1[N];real<lower=0,upper=10> sm2[N];\n",
      "    //real r21[N]; real r31[N]; real r32[N];\n",
      "    real<lower=-2,upper=2> mr21; \n",
      "    real<lower=-2,upper=2> mr31; \n",
      "    real<lower=-2,upper=2> mr32;\n",
      "    //real<lower=0> sr21; real<lower=0> sr31; real<lower=0> sr32;\n",
      "    real<lower=0,upper=1> sigma1; \n",
      "    real<lower=0,upper=1> sigma2;\n",
      "    \n",
      "}\n",
      "model {\n",
      "    //m1~normal(mm1,sm1);\n",
      "    //m2~normal(mm2,sm2);\n",
      "    //r21~normal(mr21,sr21);\n",
      "    //r31~normal(mr31,sr31);\n",
      "    //r32~normal(mr32,sr32);\n",
      "    \n",
      "    for (n in 1:N){\n",
      "        B1[n] ~ normal(mm1+mr21*B2[n]+mr31*B3[n],sigma1);\n",
      "        B2[n] ~ normal(mm2+mr32*B3[n],sigma2);\n",
      "    }\n",
      "}\n",
      "\"\"\"\n",
      "px=np.linspace(-0.5,0.5,101)\n",
      "dat = {'N': b1.shape[1],'T':b1.shape[0],'B1':b1.T,'B2':b2.T,'B3':b3.T}\n",
      "fit = pystan.stan(model_code=model, data=dat,iter=5000, chains=4,thin=5,warmup=1000)\n",
      "print fit\n",
      "saveStanFit(fit,'E2all1.fit')"
     ],
     "language": "python",
     "metadata": {},
     "outputs": [
      {
       "output_type": "stream",
       "stream": "stdout",
       "text": [
        "Inference for Stan model: anon_model.\n",
        "4 chains, each with iter=5000; warmup=1000; thin=5; \n",
        "post-warmup draws per chain=800, total post-warmup draws=3200.\n",
        "\n",
        "       mean se_mean   sd 2.5%  25%  50%  75% 97.5% n_eff Rhat\n",
        "mm1     0.1     0.0  0.0  0.1  0.1  0.1  0.1   0.11046.0  1.0\n",
        "mm2     0.2     0.0  0.0  0.2  0.2  0.2  0.2   0.21043.0  1.0\n",
        "mr21    0.0     0.0  0.0 -0.0  0.0  0.0  0.0   0.01051.0  1.0\n",
        "mr31    0.0     0.0  0.0  0.0  0.0  0.0  0.0   0.01052.0  1.0\n",
        "mr32    0.0     0.0  0.0 -0.0  0.0  0.0  0.0   0.11043.0  1.0\n",
        "sigma1  0.1     0.0  0.0  0.1  0.1  0.1  0.1   0.11067.0  1.0\n",
        "sigma2  0.2     0.0  0.0  0.2  0.2  0.2  0.2   0.21067.0  1.0\n",
        "lp__  82878.6     0.1  1.882874.282877.682878.982879.982881.01067.0  1.0\n",
        "\n",
        "Samples were drawn using NUTS(diag_e) at Sat Dec  7 23:41:42 2013.\n",
        "For each parameter, n_eff is a crude measure of effective sample size,\n",
        "and Rhat is the potential scale reduction factor on split chains (at \n",
        "convergence, Rhat=1).\n"
       ]
      }
     ],
     "prompt_number": 4
    },
    {
     "cell_type": "code",
     "collapsed": false,
     "input": [
      "printCI(fit.extract(),'mr21')\n",
      "printCI(fit.extract(),'mr31')\n",
      "printCI(fit.extract(),'mr32')"
     ],
     "language": "python",
     "metadata": {},
     "outputs": [
      {
       "output_type": "stream",
       "stream": "stdout",
       "text": [
        "mr21 0.003, CI -0.003, 0.008\n",
        "mr31 0.025, CI 0.004, 0.045\n",
        "mr32 0.023, CI -0.018, 0.064\n"
       ]
      }
     ],
     "prompt_number": 5
    },
    {
     "cell_type": "markdown",
     "metadata": {},
     "source": [
      "The coefficients are practically zero, which is probably because these are samples from pooled parameters.\n",
      "\n",
      "Let's build a monster model that uses data directly instead of using posterior estimates as observed variables. In effect we will merge models from previous tasks.\n",
      "\n",
      "We first put together models and data from Distance Bisection and Leave-Me-Alone task. We estimate the relation between the perceived origin displacement in these task."
     ]
    },
    {
     "cell_type": "code",
     "collapsed": false,
     "input": [
      "vpn=range(351,381); vpn.remove(369); vpn.remove(370)\n",
      "B3,B4,B5=loadDataB345(vpn,correct=True)\n",
      "selnB= ~np.isnan(B3[:,0,0])\n",
      "B=np.concatenate([B3,B4],2)[:,0,:]\n",
      "B12=loadDataB12(vpn)\n",
      "WO=B12[:,:,:,0]\n",
      "WP=B12[:,:,:,10]\n",
      "selnW= ~np.isnan(WO[:,1,0])\n",
      "sel=np.logical_and(selnW,selnB)\n",
      "B=B[sel,:]\n",
      "WO=WO[sel,:,:]\n",
      "WP=WP[sel,:,:]\n",
      "WO=WO.reshape([WO.shape[0],WO.shape[1]*WO.shape[2]])\n",
      "WP=WP.reshape([WP.shape[0],WP.shape[1]*WP.shape[2]])"
     ],
     "language": "python",
     "metadata": {},
     "outputs": [
      {
       "output_type": "stream",
       "stream": "stdout",
       "text": [
        "missing: subject 352, block 1\n",
        "missing: subject 366, block 1"
       ]
      },
      {
       "output_type": "stream",
       "stream": "stdout",
       "text": [
        "\n",
        "missing: subject 379, block 1"
       ]
      },
      {
       "output_type": "stream",
       "stream": "stdout",
       "text": [
        "\n"
       ]
      }
     ],
     "prompt_number": 6
    },
    {
     "cell_type": "code",
     "collapsed": false,
     "input": [
      "model = \"\"\"\n",
      "data {\n",
      "    int<lower=0> N; // number of subjects\n",
      "    int<lower=0> T; // number of trials\n",
      "    vector[N] B[T]; // line bisection data\n",
      "    \n",
      "    vector[N] WO[2*T]; // proportion of time spent in wolfpack areas\n",
      "    vector[N] WP[2*T]; // magnitude of physical displacement\n",
      "}\n",
      "parameters {\n",
      "    vector<lower=-1,upper=1>[N] Bmu;\n",
      "    vector<lower=0,upper=2>[N] Bsi;\n",
      "    real<lower=-2,upper=2> Bmmu;\n",
      "    real<lower=0,upper=1> Bsmu;\n",
      "    \n",
      "    vector<lower=0,upper=1>[N] Wmu;\n",
      "    vector<lower=-0.5,upper=0.5>[N]  Wr;\n",
      "    vector<lower=0,upper=100>[N] Wnu;\n",
      "    real<lower=0,upper=1>  Wmmu;\n",
      "    real<lower=0,upper=1> Wsmu;\n",
      "    real<lower=-0.5,upper=0.5>  Wmr;\n",
      "    real<lower=0,upper=2> Wsr;\n",
      "    \n",
      "    vector<lower=-2,upper=2>[N] R1;\n",
      "}\n",
      "model {\n",
      "    vector[N] mu;\n",
      "    //Wr~normal(Wmr,Wsr);\n",
      "    Wnu~pareto(0.1,1.5);\n",
      "    \n",
      "    Bmu~normal(Bmmu,Bsmu);//+R1*(0.5-Wmu) ./ Wr,Bsmu);\n",
      "    Wmu~normal(Wmmu+R1 .* (Bmu-Bmmu).*Wr,Wsmu);\n",
      "    for (t in 1:T){\n",
      "        B[t] ~ normal(Bmu,Bsi);\n",
      "        mu <- Wmu+ WP[t] .* Wr;\n",
      "        WO[t]~beta(mu .* Wnu,(1-mu) .* Wnu);\n",
      "        mu <- Wmu+Wr .* WP[2*t];\n",
      "        WO[2*t]~beta(mu .* Wnu,(1-mu) .* Wnu);\n",
      "    }\n",
      "}\n",
      "\"\"\"\n",
      "\n",
      "dat = {'N': B.shape[0],'T':B.shape[1],'B':B.T,'WO':WO.T,'WP':WP.T}\n",
      "fit = pystan.stan(model_code=model, data=dat,iter=1000, chains=4,thin=1,warmup=200)\n",
      "print fit\n",
      "saveStanFit(fit,'E2all2.fit')"
     ],
     "language": "python",
     "metadata": {},
     "outputs": [
      {
       "output_type": "stream",
       "stream": "stdout",
       "text": [
        "Inference for Stan model: anon_model.\n",
        "4 chains, each with iter=1000; warmup=200; thin=1; \n",
        "post-warmup draws per chain=800, total post-warmup draws=3200.\n",
        "\n",
        "        mean se_mean   sd 2.5%  25%  50%  75% 97.5% n_eff Rhat\n",
        "Bmu[0]   0.2     0.0  0.0  0.1  0.2  0.2  0.3   0.3 438.0  1.0\n",
        "Bmu[1]   0.2     0.0  0.1  0.1  0.2  0.2  0.2   0.3 205.0  1.0\n",
        "Bmu[2]   0.2     0.0  0.0  0.1  0.2  0.2  0.3   0.3 315.0  1.0\n",
        "Bmu[3]   0.2     0.0  0.0  0.1  0.2  0.2  0.3   0.3 448.0  1.0\n",
        "Bmu[4]   0.2     0.0  0.0  0.2  0.2  0.2  0.3   0.3 489.0  1.0\n",
        "Bmu[5]   0.2     0.0  0.0  0.2  0.2  0.2  0.3   0.4 354.0  1.0\n",
        "Bmu[6]   0.2     0.0  0.0  0.1  0.2  0.2  0.2   0.3 207.0  1.0\n",
        "Bmu[7]   0.2     0.0  0.0  0.2  0.2  0.2  0.3   0.3 449.0  1.0\n",
        "Bmu[8]   0.2     0.0  0.0  0.2  0.2  0.2  0.3   0.3 345.0  1.0\n",
        "Bmu[9]   0.2     0.0  0.0  0.1  0.2  0.2  0.3   0.3 314.0  1.0\n",
        "Bmu[10]  0.2     0.0  0.0  0.1  0.2  0.2  0.3   0.3 355.0  1.0\n",
        "Bmu[11]  0.2     0.0  0.0  0.1  0.2  0.2  0.3   0.3 381.0  1.0\n",
        "Bmu[12]  0.2     0.0  0.0  0.1  0.2  0.2  0.3   0.3 306.0  1.0\n",
        "Bmu[13]  0.2     0.0  0.0  0.1  0.2  0.2  0.3   0.3 180.0  1.0\n",
        "Bmu[14]  0.3     0.0  0.0  0.2  0.2  0.2  0.3   0.3 314.0  1.0\n",
        "Bmu[15]  0.3     0.0  0.0  0.2  0.2  0.3  0.3   0.4 201.0  1.0\n",
        "Bmu[16]  0.2     0.0  0.0  0.2  0.2  0.2  0.3   0.3 336.0  1.0\n",
        "Bmu[17]  0.3     0.0  0.0  0.2  0.2  0.2  0.3   0.4 277.0  1.0\n",
        "Bmu[18]  0.3     0.0  0.0  0.2  0.2  0.2  0.3   0.3 294.0  1.0\n",
        "Bmu[19]  0.3     0.0  0.1  0.2  0.2  0.2  0.3   0.4 263.0  1.0\n",
        "Bmu[20]  0.2     0.0  0.0  0.2  0.2  0.2  0.3   0.3 407.0  1.0\n",
        "Bmu[21]  0.2     0.0  0.0  0.1  0.2  0.2  0.3   0.3 356.0  1.0\n",
        "Bsi[0]   0.6     0.0  0.1  0.5  0.6  0.6  0.7   0.8 790.0  1.0\n",
        "Bsi[1]   0.9     0.0  0.1  0.7  0.8  0.9  0.9   1.1 517.0  1.0\n",
        "Bsi[2]   0.8     0.0  0.1  0.7  0.8  0.8  0.9   1.0 724.0  1.0\n",
        "Bsi[3]   1.0     0.0  0.1  0.8  0.9  1.0  1.1   1.2 576.0  1.0\n",
        "Bsi[4]   0.4     0.0  0.0  0.3  0.4  0.4  0.5   0.5 638.0  1.0\n",
        "Bsi[5]   0.9     0.0  0.1  0.8  0.9  0.9  1.0   1.2 597.0  1.0\n",
        "Bsi[6]   0.5     0.0  0.1  0.4  0.5  0.5  0.6   0.7 703.0  1.0\n",
        "Bsi[7]   0.7     0.0  0.1  0.6  0.6  0.7  0.7   0.9 627.0  1.0\n",
        "Bsi[8]   0.7     0.0  0.1  0.5  0.6  0.6  0.7   0.8 308.0  1.0\n",
        "Bsi[9]   0.5     0.0  0.1  0.4  0.5  0.5  0.6   0.7 342.0  1.0\n",
        "Bsi[10]  0.6     0.0  0.1  0.4  0.5  0.6  0.6   0.7 332.0  1.0\n",
        "Bsi[11]  0.7     0.0  0.1  0.6  0.6  0.7  0.7   0.9 591.0  1.0\n",
        "Bsi[12]  0.9     0.0  0.1  0.7  0.9  0.9  1.0   1.2 697.0  1.0\n",
        "Bsi[13]  0.8     0.0  0.1  0.6  0.7  0.8  0.8   1.0 604.0  1.0\n",
        "Bsi[14]  0.6     0.0  0.1  0.5  0.6  0.6  0.7   0.8 622.0  1.0\n",
        "Bsi[15]  0.5     0.0  0.1  0.4  0.5  0.5  0.5   0.6 586.0  1.0\n",
        "Bsi[16]  0.6     0.0  0.1  0.5  0.5  0.6  0.6   0.7 492.0  1.0\n",
        "Bsi[17]  0.6     0.0  0.1  0.5  0.6  0.6  0.7   0.8 450.0  1.0\n",
        "Bsi[18]  0.6     0.0  0.1  0.5  0.6  0.6  0.6   0.8 548.0  1.0\n",
        "Bsi[19]  1.1     0.0  0.1  0.9  1.0  1.0  1.1   1.3 546.0  1.0\n",
        "Bsi[20]  0.6     0.0  0.1  0.5  0.6  0.6  0.7   0.8 729.0  1.0\n",
        "Bsi[21]  0.5     0.0  0.1  0.4  0.5  0.5  0.6   0.7 465.0  1.0\n",
        "Bmmu     0.2     0.0  0.0  0.2  0.2  0.2  0.3   0.3 287.0  1.0\n",
        "Bsmu     0.0     0.0  0.0  0.0  0.0  0.0  0.1   0.1 105.0  1.1\n",
        "Wmu[0]   0.5     0.0  0.0  0.5  0.5  0.5  0.5   0.5 482.0  1.0\n",
        "Wmu[1]   0.5     0.0  0.0  0.5  0.5  0.5  0.5   0.5 249.0  1.0\n",
        "Wmu[2]   0.5     0.0  0.0  0.4  0.5  0.5  0.5   0.5 346.0  1.0\n",
        "Wmu[3]   0.5     0.0  0.0  0.5  0.5  0.5  0.5   0.5 421.0  1.0\n",
        "Wmu[4]   0.5     0.0  0.0  0.5  0.5  0.5  0.5   0.5 501.0  1.0\n",
        "Wmu[5]   0.5     0.0  0.0  0.5  0.5  0.5  0.5   0.5 591.0  1.0\n",
        "Wmu[6]   0.5     0.0  0.0  0.5  0.5  0.5  0.5   0.5 516.0  1.0\n",
        "Wmu[7]   0.5     0.0  0.0  0.5  0.5  0.5  0.5   0.5 425.0  1.0\n",
        "Wmu[8]   0.5     0.0  0.0  0.4  0.5  0.5  0.5   0.5 467.0  1.0\n",
        "Wmu[9]   0.5     0.0  0.0  0.4  0.5  0.5  0.5   0.5 377.0  1.0\n",
        "Wmu[10]  0.5     0.0  0.0  0.5  0.5  0.5  0.5   0.5 552.0  1.0\n",
        "Wmu[11]  0.5     0.0  0.0  0.4  0.5  0.5  0.5   0.5 368.0  1.0\n",
        "Wmu[12]  0.5     0.0  0.0  0.4  0.5  0.5  0.5   0.5 396.0  1.0\n",
        "Wmu[13]  0.5     0.0  0.0  0.5  0.5  0.5  0.5   0.5 422.0  1.0\n",
        "Wmu[14]  0.5     0.0  0.0  0.5  0.5  0.5  0.5   0.5 529.0  1.0\n",
        "Wmu[15]  0.5     0.0  0.0  0.5  0.5  0.5  0.5   0.5 536.0  1.0\n",
        "Wmu[16]  0.5     0.0  0.0  0.5  0.5  0.5  0.5   0.5 529.0  1.0\n",
        "Wmu[17]  0.5     0.0  0.0  0.4  0.5  0.5  0.5   0.5 230.0  1.0\n",
        "Wmu[18]  0.5     0.0  0.0  0.5  0.5  0.5  0.5   0.5 584.0  1.0\n",
        "Wmu[19]  0.5     0.0  0.0  0.5  0.5  0.5  0.5   0.5 443.0  1.0\n",
        "Wmu[20]  0.5     0.0  0.0  0.5  0.5  0.5  0.5   0.5 472.0  1.0\n",
        "Wmu[21]  0.5     0.0  0.0  0.5  0.5  0.5  0.5   0.5 256.0  1.0\n",
        "Wr[0]   -0.0     0.0  0.1 -0.3 -0.1 -0.0  0.1   0.2 427.0  1.0\n",
        "Wr[1]   -0.0     0.0  0.1 -0.2 -0.1 -0.0  0.1   0.3 233.0  1.0\n",
        "Wr[2]   -0.0     0.0  0.1 -0.3 -0.2 -0.0  0.1   0.2 252.0  1.0\n",
        "Wr[3]   -0.0     0.0  0.2 -0.3 -0.1 -0.0  0.1   0.3 381.0  1.0\n",
        "Wr[4]   -0.2     0.0  0.1 -0.4 -0.3 -0.2 -0.1  -0.0 634.0  1.0\n",
        "Wr[5]   -0.3     0.0  0.1 -0.5 -0.4 -0.3 -0.2   0.0 549.0  1.0\n",
        "Wr[6]   -0.2     0.0  0.1 -0.4 -0.2 -0.2 -0.1   0.0 306.0  1.0\n",
        "Wr[7]   -0.0     0.0  0.1 -0.2 -0.1 -0.0  0.0   0.1 514.0  1.0\n",
        "Wr[8]    0.2     0.0  0.1 -0.0  0.1  0.2  0.3   0.4 327.0  1.0\n",
        "Wr[9]   -0.3     0.0  0.1 -0.5 -0.4 -0.3 -0.2   0.0 582.0  1.0\n",
        "Wr[10]  -0.0     0.0  0.1 -0.3 -0.1 -0.0  0.1   0.3 365.0  1.0\n",
        "Wr[11]  -0.1     0.0  0.1 -0.4 -0.2 -0.2 -0.1   0.1 391.0  1.0\n",
        "Wr[12]   0.3     0.0  0.1 -0.0  0.2  0.3  0.4   0.5 426.0  1.0\n",
        "Wr[13]  -0.0     0.0  0.1 -0.3 -0.1 -0.0  0.1   0.2 540.0  1.0\n",
        "Wr[14]  -0.3     0.0  0.1 -0.4 -0.3 -0.3 -0.2  -0.1 511.0  1.0\n",
        "Wr[15]  -0.1     0.0  0.1 -0.2 -0.1 -0.1 -0.0   0.1 463.0  1.0\n",
        "Wr[16]  -0.0     0.0  0.1 -0.3 -0.1 -0.0  0.1   0.2 534.0  1.0\n",
        "Wr[17]   0.2     0.0  0.1 -0.1  0.1  0.2  0.3   0.4 531.0  1.0\n",
        "Wr[18]  -0.2     0.0  0.1 -0.4 -0.3 -0.2 -0.1   0.1 659.0  1.0\n",
        "Wr[19]  -0.0     0.0  0.1 -0.3 -0.1 -0.0  0.0   0.2 633.0  1.0\n",
        "Wr[20]  -0.1     0.0  0.2 -0.4 -0.2 -0.1  0.0   0.2 529.0  1.0\n",
        "Wr[21]  -0.1     0.0  0.1 -0.4 -0.2 -0.2 -0.1   0.1 315.0  1.0\n",
        "Wnu[0]   5.5     0.0  0.8  4.1  4.9  5.4  6.0   7.3 686.0  1.0\n",
        "Wnu[1]   8.7     0.0  1.3  6.4  7.8  8.6  9.4  11.5 845.0  1.0\n",
        "Wnu[2]   4.4     0.0  0.6  3.4  4.0  4.4  4.9   5.7 595.0  1.0\n",
        "Wnu[3]   3.4     0.0  0.5  2.6  3.1  3.4  3.7   4.4 519.0  1.0\n",
        "Wnu[4]   9.7     0.1  1.5  6.9  8.6  9.6 10.7  13.1 217.0  1.0\n",
        "Wnu[5]   2.3     0.0  0.3  1.7  2.1  2.3  2.5   3.0 421.0  1.0\n",
        "Wnu[6]  11.9     0.1  1.8  8.7 10.7 11.8 13.1  15.9 355.0  1.0\n",
        "Wnu[7]  15.2     0.1  2.3 10.9 13.7 15.1 16.7  19.9 553.0  1.0\n",
        "Wnu[8]   6.6     0.0  1.0  4.8  5.9  6.5  7.2   8.6 546.0  1.0\n",
        "Wnu[9]   4.6     0.0  0.7  3.4  4.1  4.6  5.0   6.0 748.0  1.0\n",
        "Wnu[10]  3.2     0.0  0.4  2.4  2.9  3.2  3.5   4.1 607.0  1.0\n",
        "Wnu[11]  6.3     0.0  0.9  4.6  5.7  6.3  6.9   8.2 521.0  1.0\n",
        "Wnu[12]  2.0     0.0  0.3  1.5  1.8  2.0  2.1   2.5 638.0  1.0\n",
        "Wnu[13]  4.8     0.0  0.7  3.5  4.3  4.8  5.2   6.1 616.0  1.0\n",
        "Wnu[14] 14.6     0.1  2.1 10.8 13.1 14.5 16.0  19.0 791.0  1.0\n",
        "Wnu[15] 16.1     0.1  2.4 11.7 14.5 16.0 17.5  21.1 753.0  1.0\n",
        "Wnu[16]  7.4     0.0  1.1  5.4  6.7  7.3  8.1   9.7 766.0  1.0\n",
        "Wnu[17]  6.0     0.0  0.9  4.5  5.4  6.0  6.5   7.8 438.0  1.0\n",
        "Wnu[18]  6.3     0.0  0.9  4.7  5.7  6.2  6.9   8.1 703.0  1.0\n",
        "Wnu[19]  6.8     0.0  1.0  4.9  6.1  6.8  7.5   8.9 549.0  1.0\n",
        "Wnu[20]  2.9     0.0  0.4  2.2  2.7  2.9  3.2   3.9 687.0  1.0\n",
        "Wnu[21] 11.5     0.1  1.8  8.3 10.3 11.4 12.7  15.2 609.0  1.0\n",
        "Wmmu     0.5     0.0  0.0  0.5  0.5  0.5  0.5   0.5 252.0  1.0\n",
        "Wsmu     0.0     0.0  0.0  0.0  0.0  0.0  0.0   0.0 157.0  1.0\n",
        "Wmr     -0.0     0.0  0.3 -0.5 -0.2 -0.0  0.2   0.5 496.0  1.0\n",
        "Wsr      1.0     0.0  0.6  0.1  0.5  1.0  1.5   2.0 623.0  1.0\n",
        "R1[0]   -0.0     0.1  1.2 -1.9 -1.1 -0.1  1.0   1.9 398.0  1.0\n",
        "R1[1]   -0.1     0.1  1.2 -1.9 -1.2 -0.1  1.0   1.9 364.0  1.0\n",
        "R1[2]   -0.0     0.1  1.1 -1.9 -1.0 -0.0  1.0   1.9 450.0  1.0\n",
        "R1[3]    0.1     0.1  1.1 -1.9 -0.9  0.1  1.1   1.9 483.0  1.0\n",
        "R1[4]   -0.1     0.1  1.1 -1.9 -1.0 -0.1  0.9   1.9 407.0  1.0\n",
        "R1[5]   -0.0     0.1  1.1 -1.9 -1.0 -0.0  0.9   1.9 426.0  1.0\n",
        "R1[6]   -0.1     0.1  1.1 -1.9 -1.1 -0.2  0.8   1.9 360.0  1.0\n",
        "R1[7]   -0.1     0.0  1.1 -1.9 -1.0 -0.1  0.9   1.9 772.0  1.0\n",
        "R1[8]   -0.1     0.1  1.1 -1.9 -1.1 -0.2  0.9   1.8 423.0  1.0\n",
        "R1[9]   -0.1     0.1  1.2 -1.9 -1.1 -0.2  0.9   1.9 414.0  1.0\n",
        "R1[10]  -0.0     0.0  1.1 -1.9 -1.0 -0.1  0.9   1.9 754.0  1.0\n",
        "R1[11]  -0.1     0.1  1.2 -1.9 -1.1 -0.1  1.0   1.9 427.0  1.0\n",
        "R1[12]  -0.0     0.1  1.1 -1.9 -1.0 -0.0  0.9   1.9 318.0  1.0\n",
        "R1[13]  -0.0     0.0  1.1 -1.9 -1.0  0.0  0.9   1.9 576.0  1.0\n",
        "R1[14]  -0.1     0.0  1.1 -1.9 -1.0 -0.2  0.8   1.8 609.0  1.0\n",
        "R1[15]  -0.1     0.0  1.2 -1.9 -1.1 -0.1  1.0   1.9 577.0  1.0\n",
        "R1[16]  -0.0     0.0  1.1 -1.9 -1.0 -0.0  1.0   1.9 583.0  1.0\n",
        "R1[17]  -0.1     0.1  1.2 -1.9 -1.2 -0.3  0.9   1.9 517.0  1.0\n",
        "R1[18]  -0.1     0.0  1.1 -1.9 -1.1 -0.2  0.9   1.9 543.0  1.0\n",
        "R1[19]  -0.1     0.1  1.2 -1.9 -1.1 -0.0  0.9   1.9 493.0  1.0\n",
        "R1[20]   0.0     0.0  1.1 -1.9 -1.0  0.0  0.9   1.9 698.0  1.0\n",
        "R1[21]   0.1     0.1  1.2 -1.9 -1.0  0.2  1.2   1.9 451.0  1.0\n",
        "lp__   474.4     2.0 19.9438.6460.8473.0487.2 517.9 102.0  1.0\n",
        "\n",
        "Samples were drawn using NUTS(diag_e) at Mon Dec  9 02:05:37 2013.\n",
        "For each parameter, n_eff is a crude measure of effective sample size,\n",
        "and Rhat is the potential scale reduction factor on split chains (at \n",
        "convergence, Rhat=1).\n"
       ]
      },
      {
       "output_type": "stream",
       "stream": "stderr",
       "text": [
        "No handlers could be found for logger \"pystan\"\n"
       ]
      }
     ],
     "prompt_number": 7
    },
    {
     "cell_type": "markdown",
     "metadata": {},
     "source": [
      "This doesn't work. The R1 parameter is not identifiable in this model, it covaries with Wr. We shall try to parametrize the model differently."
     ]
    },
    {
     "cell_type": "code",
     "collapsed": false,
     "input": [
      "model = \"\"\"\n",
      "data {\n",
      "    int<lower=0> N; // number of subjects\n",
      "    int<lower=0> T; // number of trials\n",
      "    vector[N] B[T]; // line bisection data\n",
      "    \n",
      "    vector[N] WO[2*T]; // proportion of time spent in wolfpack areas\n",
      "    vector[N] WP[2*T]; // magnitude of physical displacement\n",
      "}\n",
      "parameters {\n",
      "    vector<lower=-1,upper=1>[N] Bmu;\n",
      "    vector<lower=0,upper=2>[N] Bsi;\n",
      "    real<lower=-2,upper=2> Bmmu;\n",
      "    real<lower=0,upper=1> Bsmu;\n",
      "    \n",
      "    vector<lower=-4,upper=4>[N] Wmu;\n",
      "    vector<lower=-1,upper=1>[N]  Wr;\n",
      "    vector<lower=0,upper=4>[N] Wnu;\n",
      "    real<lower=-4,upper=4>  Wmmu;\n",
      "    real<lower=0,upper=4> Wsmu;\n",
      "    real<lower=-1,upper=1>  Wmr;\n",
      "    real<lower=0,upper=5> Wsr;\n",
      "    \n",
      "    real<lower=-2,upper=2> R1;\n",
      "}\n",
      "model {\n",
      "    vector[N] mu;\n",
      "    Wr~normal(Wmr,Wsr);\n",
      "    \n",
      "    Bmu~normal(Bmmu,Bsmu);\n",
      "    Wmu~normal(Wmmu,Wsmu);\n",
      "    for (t in 1:T){\n",
      "        B[t] ~ normal(Bmu,Bsi); \n",
      "        WP[t]~normal(Wmu+ WO[t] .* Wr,Wnu);\n",
      "    }\n",
      "}\n",
      "\"\"\"\n",
      "\n",
      "dat = {'N': B.shape[0],'T':B.shape[1],'B':B.T,'WO':(np.log(WO)-np.log(1-WO)).T,'WP':WP.T}\n",
      "fit = pystan.stan(model_code=model, data=dat,iter=500, chains=4,thin=2,warmup=100)\n",
      "print fit\n",
      "saveStanFit(fit,'E2all4.fit')"
     ],
     "language": "python",
     "metadata": {},
     "outputs": [
      {
       "output_type": "stream",
       "stream": "stdout",
       "text": [
        "Inference for Stan model: anon_model.\n",
        "4 chains, each with iter=500; warmup=100; thin=2; \n",
        "post-warmup draws per chain=200, total post-warmup draws=800.\n",
        "\n",
        "        mean se_mean   sd 2.5%  25%  50%  75% 97.5% n_eff Rhat\n",
        "Bmu[0]   0.3     0.3  0.3 -0.0  0.1  0.2  0.5   0.8   1.0385.0\n",
        "Bmu[1]  -0.2     0.1  0.1 -0.3 -0.3 -0.2 -0.1  -0.0   1.0165.8\n",
        "Bmu[2]   0.1     0.2  0.2 -0.1 -0.1  0.0  0.3   0.4   1.0422.5\n",
        "Bmu[3]   0.2     0.1  0.1  0.0  0.1  0.2  0.3   0.4   1.0190.8\n",
        "Bmu[4]   0.2     0.1  0.1 -0.0  0.1  0.2  0.3   0.3   1.0156.7\n",
        "Bmu[5]   0.0     0.3  0.3 -0.5 -0.3  0.0  0.3   0.4   1.0489.7\n",
        "Bmu[6]   0.1     0.3  0.3 -0.1 -0.1  0.0  0.3   0.6   1.0496.1\n",
        "Bmu[7]   0.1     0.3  0.3 -0.4 -0.2  0.2  0.3   0.4   1.0308.5\n",
        "Bmu[8]   0.1     0.2  0.2 -0.1 -0.1  0.1  0.3   0.3   1.0219.4\n",
        "Bmu[9]   0.4     0.2  0.2  0.2  0.3  0.5  0.6   0.7   1.0388.2\n",
        "Bmu[10]  0.3     0.2  0.2  0.1  0.1  0.2  0.4   0.5   1.0308.3\n",
        "Bmu[11]  0.1     0.4  0.4 -0.7 -0.3  0.3  0.4   0.4   1.0914.7\n",
        "Bmu[12]  0.1     0.2  0.2 -0.2 -0.1  0.1  0.4   0.4   1.0260.9\n",
        "Bmu[13]  0.2     0.2  0.2 -0.1  0.0  0.2  0.3   0.4   1.0294.9\n",
        "Bmu[14]  0.0     0.3  0.3 -0.3 -0.3 -0.0  0.3   0.5   1.0439.4\n",
        "Bmu[15]  0.4     0.1  0.1  0.3  0.3  0.4  0.5   0.6   1.0162.0\n",
        "Bmu[16]  0.1     0.1  0.1  0.0  0.1  0.1  0.2   0.2   1.0 97.0\n",
        "Bmu[17]  0.3     0.1  0.1  0.2  0.3  0.4  0.4   0.4   1.0194.2\n",
        "Bmu[18]  0.2     0.1  0.1  0.1  0.2  0.2  0.3   0.3   1.0107.7\n",
        "Bmu[19]  0.5     0.2  0.2  0.1  0.2  0.5  0.7   0.7   1.0425.2\n",
        "Bmu[20]  0.2     0.1  0.1  0.1  0.1  0.2  0.3   0.4   1.0202.7\n",
        "Bmu[21]  0.2     0.2  0.2 -0.1 -0.1  0.2  0.4   0.5   1.0261.6\n",
        "Bsi[0]   1.0     0.3  0.3  0.7  0.7  0.9  1.2   1.4   1.0294.7\n",
        "Bsi[1]   1.0     0.2  0.2  0.7  0.8  1.0  1.1   1.3   1.0289.4\n",
        "Bsi[2]   1.1     0.3  0.3  0.8  0.9  1.1  1.3   1.5   1.0337.5\n",
        "Bsi[3]   1.1     0.3  0.3  0.8  0.9  1.0  1.4   1.5   1.0467.2\n",
        "Bsi[4]   0.7     0.3  0.3  0.4  0.4  0.5  0.9   1.2   1.0476.3\n",
        "Bsi[5]   1.0     0.1  0.1  0.9  1.0  1.0  1.1   1.2   1.0 87.7\n",
        "Bsi[6]   0.9     0.4  0.4  0.5  0.5  0.7  1.2   1.4   1.0476.3\n",
        "Bsi[7]   1.1     0.3  0.3  0.7  0.9  1.2  1.2   1.2   1.0395.2\n",
        "Bsi[8]   1.0     0.4  0.4  0.6  0.7  0.9  1.4   1.6   1.0515.2\n",
        "Bsi[9]   1.0     0.5  0.5  0.5  0.6  0.9  1.5   1.7   1.0859.6\n",
        "Bsi[10]  0.7     0.1  0.1  0.6  0.6  0.7  0.9   0.9   1.0235.9\n",
        "Bsi[11]  0.9     0.2  0.2  0.7  0.7  0.9  1.0   1.0   1.0253.4\n",
        "Bsi[12]  0.9     0.1  0.1  0.9  0.9  0.9  1.0   1.1   1.0 73.0\n",
        "Bsi[13]  1.0     0.1  0.1  0.9  0.9  0.9  1.1   1.2   1.0191.2\n",
        "Bsi[14]  0.9     0.3  0.3  0.6  0.6  1.0  1.2   1.2   1.0377.6\n",
        "Bsi[15]  0.8     0.4  0.4  0.5  0.5  0.7  1.2   1.5   1.0629.3\n",
        "Bsi[16]  0.8     0.4  0.4  0.5  0.5  0.6  1.1   1.6   1.0655.6\n",
        "Bsi[17]  0.8     0.2  0.2  0.5  0.7  0.8  1.0   1.1   1.0359.9\n",
        "Bsi[18]  0.9     0.2  0.2  0.6  0.6  0.8  1.1   1.1   1.0354.3\n",
        "Bsi[19]  1.0     0.1  0.1  0.8  0.9  1.0  1.1   1.1   1.0171.0\n",
        "Bsi[20]  0.7     0.1  0.1  0.5  0.6  0.7  0.8   0.8   1.0218.2\n",
        "Bsi[21]  0.7     0.1  0.1  0.6  0.6  0.7  0.8   0.8   1.0119.8\n",
        "Bmmu     0.2     0.1  0.1 -0.0  0.1  0.3  0.3   0.3   1.0 82.5\n",
        "Bsmu     0.6     0.2  0.2  0.3  0.4  0.6  0.7   0.9   1.0610.9\n",
        "Wmu[0]   0.6     0.9  0.9 -0.0  0.0  0.1  1.3   2.2   1.0345.5\n",
        "Wmu[1]   0.0     0.0  0.0 -0.0 -0.0  0.0  0.1   0.1   2.0 19.2\n",
        "Wmu[2]  -0.2     0.2  0.2 -0.4 -0.4 -0.3 -0.1   0.0   1.0 52.7\n",
        "Wmu[3]   0.0     0.1  0.1 -0.0 -0.0  0.0  0.1   0.2   1.0 40.9\n",
        "Wmu[4]   0.2     0.3  0.3 -0.0 -0.0  0.1  0.4   0.7   1.0 88.9\n",
        "Wmu[5]   0.1     0.2  0.2 -0.0 -0.0  0.1  0.3   0.4   1.0 59.2\n",
        "Wmu[6]  -0.1     0.1  0.1 -0.1 -0.1 -0.0  0.0   0.0   1.0 37.7\n",
        "Wmu[7]   0.2     0.5  0.5 -0.1 -0.0 -0.0  0.6   1.1   1.0122.4\n",
        "Wmu[8]   0.5     0.7  0.7 -0.0  0.0  0.2  1.0   1.7   1.0288.2\n",
        "Wmu[9]   0.3     0.4  0.4 -0.1 -0.0  0.2  0.7   0.8   1.0135.6\n",
        "Wmu[10] -0.2     0.1  0.1 -0.4 -0.3 -0.1 -0.1  -0.0   1.0 46.9\n",
        "Wmu[11]  0.1     0.0  0.0 -0.0  0.0  0.1  0.1   0.1   2.0 14.8\n",
        "Wmu[12]  0.0     0.0  0.0 -0.1 -0.0  0.0  0.1   0.1   2.0 14.3\n",
        "Wmu[13]  0.3     0.5  0.5 -0.0 -0.0  0.1  0.7   1.1   1.0224.5\n",
        "Wmu[14]  0.0     0.0  0.0 -0.0 -0.0  0.0  0.1   0.1   2.0  9.4\n",
        "Wmu[15]  0.2     0.2  0.2 -0.0 -0.0  0.1  0.3   0.5   1.0 72.2\n",
        "Wmu[16] -0.0     0.0  0.0 -0.1 -0.0 -0.0 -0.0   0.0   2.0  9.5\n",
        "Wmu[17] -0.1     0.3  0.3 -0.6 -0.3 -0.0  0.1   0.3   1.0142.9\n",
        "Wmu[18] -0.0     0.0  0.1 -0.1 -0.1  0.0  0.0   0.1   2.0 21.7\n",
        "Wmu[19] -0.1     0.1  0.1 -0.3 -0.2 -0.1 -0.0   0.0   1.0 32.3\n",
        "Wmu[20] -0.1     0.1  0.1 -0.3 -0.2 -0.0  0.0   0.0   1.0 77.5\n",
        "Wmu[21]  0.1     0.1  0.1 -0.0 -0.0  0.0  0.2   0.3   1.0 43.6\n",
        "Wr[0]   -0.5     0.3  0.3 -0.8 -0.7 -0.6 -0.2   0.0   1.0802.5\n",
        "Wr[1]   -0.3     0.3  0.3 -0.7 -0.6 -0.2 -0.0   0.0   1.0731.1\n",
        "Wr[2]   -0.1     0.3  0.3 -0.4 -0.4 -0.2  0.2   0.5   1.0496.5\n",
        "Wr[3]    0.2     0.3  0.3 -0.0 -0.0  0.0  0.4   0.7   1.0868.7\n",
        "Wr[4]   -0.1     0.4  0.4 -0.6 -0.5 -0.1  0.4   0.6   1.0872.5\n",
        "Wr[5]   -0.0     0.2  0.2 -0.3 -0.2 -0.1  0.2   0.3   1.0431.3\n",
        "Wr[6]   -0.1     0.1  0.1 -0.4 -0.3 -0.1 -0.0   0.0   1.0291.6\n",
        "Wr[7]    0.2     0.3  0.3 -0.3 -0.1  0.2  0.4   0.5   1.0464.1\n",
        "Wr[8]    0.1     0.6  0.6 -0.6 -0.5  0.0  0.6   0.8   1.01145.7\n",
        "Wr[9]    0.2     0.4  0.4 -0.2 -0.1  0.1  0.6   0.9   1.0568.7\n",
        "Wr[10]  -0.2     0.4  0.4 -0.7 -0.6 -0.3  0.2   0.4   1.0653.6\n",
        "Wr[11]   0.1     0.2  0.2 -0.0 -0.0 -0.0  0.3   0.5   1.0281.7\n",
        "Wr[12]   0.0     0.4  0.4 -0.6 -0.3  0.1  0.4   0.5   1.0723.7\n",
        "Wr[13]   0.2     0.2  0.2 -0.1 -0.0  0.1  0.4   0.5   1.0354.3\n",
        "Wr[14]   0.5     0.3  0.3 -0.0  0.3  0.7  0.7   0.8   1.0726.1\n",
        "Wr[15]  -0.1     0.3  0.3 -0.6 -0.4 -0.1  0.1   0.1   1.0578.2\n",
        "Wr[16]   0.3     0.4  0.4 -0.0 -0.0  0.3  0.7   0.8   1.0747.2\n",
        "Wr[17]   0.2     0.3  0.3 -0.0 -0.0  0.0  0.4   0.7   1.0564.3\n",
        "Wr[18]  -0.2     0.3  0.3 -0.6 -0.5 -0.1 -0.0   0.0   1.0352.8\n",
        "Wr[19]  -0.1     0.2  0.2 -0.4 -0.2  0.0  0.1   0.2   1.0424.0\n",
        "Wr[20]  -0.1     0.1  0.1 -0.4 -0.3 -0.1 -0.0   0.0   1.0402.9\n",
        "Wr[21]  -0.1     0.5  0.5 -0.8 -0.5 -0.1  0.3   0.5   1.0765.8\n",
        "Wnu[0]   1.6     1.3  1.3  0.0  0.4  1.5  2.8   3.5   1.0926.7\n",
        "Wnu[1]   0.5     0.6  0.6  0.0  0.1  0.2  0.9   1.5   1.0962.9\n",
        "Wnu[2]   1.0     0.8  0.8  0.0  0.3  0.9  1.7   2.1   1.0783.3\n",
        "Wnu[3]   0.2     0.3  0.3  0.0  0.0  0.1  0.4   0.7   1.0487.7\n",
        "Wnu[4]   1.4     1.3  1.3  0.0  0.1  1.3  2.6   2.9   1.01782.1\n",
        "Wnu[5]   1.1     0.7  0.7  0.0  0.4  1.2  1.7   1.7   1.0536.4\n",
        "Wnu[6]   0.3     0.4  0.4  0.0  0.0  0.1  0.6   0.9   1.0664.9\n",
        "Wnu[7]   1.2     1.3  1.3  0.0  0.1  0.9  2.4   3.1   1.01961.3\n",
        "Wnu[8]   2.1     1.1  1.1  0.5  1.2  2.4  3.0   3.3   1.0852.8\n",
        "Wnu[9]   0.8     0.7  0.7  0.0  0.1  0.7  1.5   1.8   1.0665.0\n",
        "Wnu[10]  1.6     0.6  0.6  0.8  1.0  1.5  2.1   2.5   1.0510.1\n",
        "Wnu[11]  0.3     0.2  0.2  0.0  0.1  0.3  0.4   0.5   1.0440.7\n",
        "Wnu[12]  1.4     1.2  1.2  0.2  0.3  0.9  2.5   3.3   1.01576.4\n",
        "Wnu[13]  0.7     0.9  0.9  0.0  0.1  0.3  1.4   2.3   1.0870.5\n",
        "Wnu[14]  0.4     0.2  0.2  0.1  0.2  0.4  0.5   0.5   1.0321.3\n",
        "Wnu[15]  0.9     1.3  1.3  0.0  0.0  0.3  2.0   3.1   1.01870.4\n",
        "Wnu[16]  0.4     0.3  0.3  0.0  0.1  0.3  0.7   0.8   1.0381.9\n",
        "Wnu[17]  0.8     1.0  1.0  0.0  0.0  0.4  1.8   2.5   1.01676.3\n",
        "Wnu[18]  0.4     0.4  0.4  0.0  0.1  0.4  0.8   0.9   1.0211.3\n",
        "Wnu[19]  1.2     1.1  1.1  0.0  0.2  0.8  2.2   3.0   1.0837.0\n",
        "Wnu[20]  0.2     0.2  0.2  0.0  0.0  0.1  0.4   0.6   1.0611.0\n",
        "Wnu[21]  1.1     1.2  1.2  0.0  0.2  0.7  2.2   3.0   1.01821.9\n",
        "Wmmu    -0.6     1.3  1.3 -2.5 -1.7 -0.4  0.5   1.0   1.0300.0\n",
        "Wsmu     2.2     0.8  0.8  1.3  1.5  1.9  2.9   3.5   1.0659.7\n",
        "Wmr      0.2     0.3  0.3 -0.1 -0.1  0.1  0.5   0.6   1.0358.5\n",
        "Wsr      1.3     0.6  0.6  0.7  0.8  1.3  1.9   2.0   1.0496.4\n",
        "R1      -0.3     0.5  0.5 -0.9 -0.8 -0.4  0.1   0.4   1.0403.1\n",
        "lp__   1651.8   477.7675.5843.41009.91484.12281.12707.3   2.0 32.6\n",
        "\n",
        "Samples were drawn using NUTS(diag_e) at Sun Dec  8 12:12:30 2013.\n",
        "For each parameter, n_eff is a crude measure of effective sample size,\n",
        "and Rhat is the potential scale reduction factor on split chains (at \n",
        "convergence, Rhat=1).\n"
       ]
      }
     ],
     "prompt_number": 8
    },
    {
     "cell_type": "markdown",
     "metadata": {},
     "source": [
      "This doesn't work either (no convergence). Ordered multinomial GLM would be an appropriate model.\n",
      "\n",
      "Let's combine data from Distance Bisection and Location Recall, maybe this will be easier."
     ]
    },
    {
     "cell_type": "code",
     "collapsed": false,
     "input": [
      "vpn=range(351,381); vpn.remove(369); vpn.remove(370)\n",
      "B3,B4,B5=loadDataB345(vpn,correct=True)\n",
      "selnB= ~np.isnan(B3[:,0,0])\n",
      "B=np.concatenate([B3,B4],2)[:,0,:]\n",
      "\n",
      "D=loadDataB12(vpn)\n",
      "G=[[],[],[],[]];sels=[]\n",
      "for i in range(len(vpn)):\n",
      "    # predictor var\n",
      "    px=np.cos([np.zeros(T),D[i,0,:,7],D[i,0,:,8],D[i,0,:,9]])\n",
      "    py=np.sin([np.ones(T)*np.pi/2.0,D[i,0,:,7],D[i,0,:,8],D[i,0,:,9]])\n",
      "    \n",
      "    # outcome var\n",
      "    ox=np.cos(D[i,0,:,6])*D[i,0,:,5]\n",
      "    oy=np.sin(D[i,0,:,6])*D[i,0,:,5]\n",
      "    sel=np.logical_and(D[i,0,:,4]==1,~np.isnan(D[i,0,:,4]))\n",
      "    sels.append(sel)\n",
      "    G[0].append(px.T);G[1].append(py.T)\n",
      "    G[2].append(ox); G[3].append(oy)\n",
      "sels=np.array(sels)\n",
      "selnL=sels.mean(1)>0.1\n",
      "sel=np.logical_and(selnL,selnB)\n",
      "sels=sels[sel,:]\n",
      "B=B[sel,:]\n",
      "for g in range(4): G[g]=np.array(G[g])\n",
      "G[0]=G[0][sel,:,:];G[1]=G[1][sel,:,:];\n",
      "G[2]=G[2][sel,:];G[3]=G[3][sel,:];\n",
      "dat = {'N': sel.sum(),'T':T,'LS':np.int32(sels),'LPX': G[0],'LPY':G[1],'LOX':G[2],'LOY':G[3],'B':B.T}"
     ],
     "language": "python",
     "metadata": {},
     "outputs": [
      {
       "output_type": "stream",
       "stream": "stdout",
       "text": [
        "missing: subject 352, block 1\n",
        "missing: subject 366, block 1"
       ]
      },
      {
       "output_type": "stream",
       "stream": "stdout",
       "text": [
        "\n",
        "missing: subject 379, block 1"
       ]
      },
      {
       "output_type": "stream",
       "stream": "stdout",
       "text": [
        "\n"
       ]
      }
     ],
     "prompt_number": 9
    },
    {
     "cell_type": "code",
     "collapsed": false,
     "input": [
      "modelhier = \"\"\"\n",
      "data {\n",
      "    int<lower=0> N; // number of subjects\n",
      "    int<lower=0> T; // number of trials\n",
      "    real LPX[N,T,4]; // predictor on x axis\n",
      "    real LPY[N,T,4]; // predictor on y axis\n",
      "    real LOX[N,T]; // outcome on x axis\n",
      "    real LOY[N,T]; // outcome on y axis\n",
      "    int<lower=0,upper=1> LS[N,T]; // indicator var to include item\n",
      "    \n",
      "    vector[N] B[T]; // line bisection data\n",
      "}\n",
      "parameters {\n",
      "    real<lower=-1.5,upper=1.5> La1[N];\n",
      "    real<lower=-1.5,upper=1.5>  La2[N];\n",
      "    vector<lower=-1.5,upper=1.5>[N]  La3;\n",
      "    real<lower=0,upper=10> Lsigma[N];\n",
      "    real<lower=-1.5,upper=1.5>  Lma[3];\n",
      "    real<lower=0> Lsa[5];\n",
      "    \n",
      "    vector<lower=-1,upper=1>[N] Bmu;\n",
      "    vector<lower=0,upper=2>[N] Bsi;\n",
      "    real<lower=-2,upper=2> Bmmu;\n",
      "    real<lower=0,upper=1> Bsmu;\n",
      "    \n",
      "    //vector<lower=-2,upper=2>[N] R2;\n",
      "    real<lower=-2,upper=2> mR2;\n",
      "    //real<lower=0,upper=2> sR2;\n",
      "}\n",
      "\n",
      "\n",
      "model {\n",
      "    real mx;\n",
      "    real my;\n",
      "    //R2~ normal(mR2,sR2);\n",
      "    Bmu~normal(Bmmu,Bsmu);\n",
      "    La1~normal(Lma[1],Lsa[1]);\n",
      "    La2~normal(Lma[2],Lsa[2]);\n",
      "    La3~normal(Lma[3],Lsa[3]);\n",
      "    Lsigma~gamma(Lsa[4],Lsa[5]);\n",
      "    for (t in 1:T){\n",
      "        B[t] ~ normal(Bmu,Bsi);\n",
      "        for (n in 1:N){\n",
      "            if (LS[n,t]==1){\n",
      "                mx<-La1[n]*LPX[n,t,2]+La2[n]*LPX[n,t,3]+La3[n]*LPX[n,t,4];\n",
      "                my<-La1[n]*LPY[n,t,2]+La2[n]*LPY[n,t,3]+La3[n]*LPY[n,t,4];\n",
      "                LOX[n,t] ~ normal(mx,Lsigma[n]);\n",
      "                LOY[n,t] ~ normal(my,Lsigma[n]);\n",
      "            }\n",
      "        }\n",
      "    }\n",
      "}\n",
      "\"\"\"\n",
      "fit = pystan.stan(model_code=modelhier, data=dat,iter=1000, chains=4,thin=1,warmup=200)\n",
      "print fit\n",
      "saveStanFit(fit,'E2all3.fit')\n"
     ],
     "language": "python",
     "metadata": {},
     "outputs": [
      {
       "output_type": "stream",
       "stream": "stdout",
       "text": [
        "Inference for Stan model: anon_model.\n",
        "4 chains, each with iter=1000; warmup=200; thin=1; \n",
        "post-warmup draws per chain=800, total post-warmup draws=3200.\n",
        "\n",
        "           mean se_mean   sd 2.5%  25%  50%  75% 97.5% n_eff Rhat\n",
        "La1[0]     -0.1     0.0  0.2 -0.5 -0.2 -0.1  0.0   0.2 295.0  1.0\n",
        "La1[1]      0.1     0.0  0.1 -0.1  0.0  0.1  0.2   0.4 415.0  1.0\n",
        "La1[2]      0.1     0.0  0.1 -0.2 -0.0  0.1  0.1   0.4 462.0  1.0\n",
        "La1[3]      0.0     0.0  0.1 -0.3 -0.1  0.0  0.1   0.3 434.0  1.0\n",
        "La1[4]     -0.2     0.0  0.2 -0.6 -0.3 -0.2 -0.0   0.1 110.0  1.0\n",
        "La1[5]     -0.0     0.0  0.1 -0.3 -0.1 -0.0  0.0   0.2 564.0  1.0\n",
        "La1[6]     -0.0     0.0  0.1 -0.3 -0.1 -0.0  0.1   0.2 585.0  1.0\n",
        "La1[7]      0.1     0.0  0.1 -0.1  0.0  0.1  0.2   0.5 293.0  1.0\n",
        "La1[8]      0.1     0.0  0.1 -0.1 -0.0  0.1  0.2   0.4 311.0  1.0\n",
        "La1[9]      0.0     0.0  0.1 -0.2 -0.0  0.0  0.1   0.3 797.0  1.0\n",
        "La1[10]     0.0     0.0  0.1 -0.2 -0.0  0.0  0.1   0.3 566.0  1.0\n",
        "La1[11]    -0.0     0.0  0.1 -0.2 -0.1 -0.0  0.1   0.2 686.0  1.0\n",
        "La1[12]     0.0     0.0  0.1 -0.2 -0.0  0.0  0.1   0.3 510.0  1.0\n",
        "La1[13]     0.1     0.0  0.1 -0.1  0.0  0.1  0.2   0.4 495.0  1.0\n",
        "La1[14]     0.0     0.0  0.1 -0.2 -0.1  0.0  0.1   0.3 300.0  1.0\n",
        "La1[15]    -0.1     0.0  0.1 -0.4 -0.2 -0.1 -0.0   0.1 244.0  1.0\n",
        "La1[16]    -0.2     0.0  0.2 -0.5 -0.3 -0.2 -0.0   0.1 155.0  1.0\n",
        "La1[17]     0.1     0.0  0.1 -0.1  0.0  0.1  0.2   0.4 231.0  1.0\n",
        "La1[18]    -0.0     0.0  0.1 -0.3 -0.1 -0.0  0.1   0.2 509.0  1.0\n",
        "La1[19]     0.1     0.0  0.1 -0.2 -0.0  0.0  0.1   0.3 313.0  1.0\n",
        "La1[20]     0.1     0.0  0.1 -0.2 -0.0  0.1  0.1   0.4 504.0  1.0\n",
        "La1[21]    -0.1     0.0  0.1 -0.3 -0.1 -0.1  0.0   0.2 374.0  1.0\n",
        "La1[22]     0.1     0.0  0.1 -0.2 -0.0  0.0  0.1   0.4 327.0  1.0\n",
        "La1[23]    -0.0     0.0  0.1 -0.2 -0.1 -0.0  0.1   0.2 575.0  1.0\n",
        "La2[0]      0.3     0.0  0.2 -0.1  0.2  0.3  0.5   0.8 863.0  1.0\n",
        "La2[1]      0.1     0.0  0.2 -0.3 -0.1  0.1  0.2   0.4 360.0  1.0\n",
        "La2[2]      0.1     0.0  0.2 -0.4 -0.1  0.1  0.2   0.5 422.0  1.0\n",
        "La2[3]      0.6     0.0  0.2  0.2  0.5  0.6  0.8   1.0 621.0  1.0\n",
        "La2[4]      0.1     0.0  0.2 -0.4 -0.1  0.1  0.2   0.5 500.0  1.0\n",
        "La2[5]     -0.0     0.0  0.2 -0.4 -0.1 -0.0  0.1   0.3 722.0  1.0\n",
        "La2[6]      0.0     0.0  0.2 -0.3 -0.1  0.0  0.1   0.3 542.0  1.0\n",
        "La2[7]      0.1     0.0  0.2 -0.2 -0.0  0.1  0.3   0.5 603.0  1.0\n",
        "La2[8]      0.5     0.0  0.2  0.1  0.4  0.5  0.6   0.8 724.0  1.0\n",
        "La2[9]      0.3     0.0  0.2 -0.0  0.2  0.3  0.4   0.6 865.0  1.0\n",
        "La2[10]     0.6     0.0  0.2  0.2  0.4  0.6  0.7   0.9 808.0  1.0\n",
        "La2[11]     0.6     0.0  0.1  0.3  0.5  0.6  0.7   0.9 861.0  1.0\n",
        "La2[12]     0.5     0.0  0.2  0.1  0.3  0.5  0.6   0.9 693.0  1.0\n",
        "La2[13]     0.0     0.0  0.2 -0.3 -0.1  0.0  0.2   0.4 764.0  1.0\n",
        "La2[14]    -0.2     0.0  0.2 -0.5 -0.3 -0.1 -0.0   0.2 442.0  1.0\n",
        "La2[15]     0.5     0.0  0.2  0.2  0.4  0.5  0.7   0.9 882.0  1.0\n",
        "La2[16]     0.8     0.0  0.2  0.5  0.7  0.8  0.9   1.2 546.0  1.0\n",
        "La2[17]     0.3     0.0  0.2 -0.0  0.2  0.3  0.4   0.7 599.0  1.0\n",
        "La2[18]     0.6     0.0  0.2  0.2  0.5  0.6  0.7   1.0 604.0  1.0\n",
        "La2[19]     0.5     0.0  0.2  0.2  0.4  0.5  0.6   0.8 649.0  1.0\n",
        "La2[20]     0.4     0.0  0.2 -0.1  0.3  0.4  0.6   0.9 574.0  1.0\n",
        "La2[21]     1.0     0.0  0.2  0.7  0.9  1.0  1.1   1.4 418.0  1.0\n",
        "La2[22]     0.5     0.0  0.2  0.1  0.4  0.5  0.6   0.9 229.0  1.0\n",
        "La2[23]     0.4     0.0  0.2  0.0  0.2  0.4  0.5   0.7 436.0  1.0\n",
        "La3[0]      0.1     0.0  0.1 -0.1  0.1  0.1  0.2   0.2 243.0  1.0\n",
        "La3[1]      0.1     0.0  0.1 -0.0  0.1  0.1  0.2   0.3 378.0  1.0\n",
        "La3[2]      0.1     0.0  0.1 -0.1  0.1  0.1  0.2   0.2 267.0  1.0\n",
        "La3[3]      0.1     0.0  0.1 -0.1  0.1  0.1  0.2   0.3 404.0  1.0\n",
        "La3[4]      0.1     0.0  0.1 -0.1  0.1  0.1  0.2   0.3 288.0  1.0\n",
        "La3[5]      0.1     0.0  0.1 -0.0  0.1  0.1  0.2   0.3 381.0  1.0\n",
        "La3[6]      0.1     0.0  0.1 -0.0  0.1  0.1  0.2   0.3 436.0  1.0\n",
        "La3[7]      0.1     0.0  0.1 -0.1  0.1  0.1  0.1   0.2 232.0  1.0\n",
        "La3[8]      0.1     0.0  0.1 -0.1  0.1  0.1  0.2   0.3 390.0  1.0\n",
        "La3[9]      0.1     0.0  0.1 -0.1  0.1  0.1  0.2   0.2 219.0  1.0\n",
        "La3[10]     0.1     0.0  0.1 -0.1  0.1  0.1  0.2   0.2 265.0  1.0\n",
        "La3[11]     0.1     0.0  0.1 -0.0  0.1  0.1  0.2   0.3 383.0  1.0\n",
        "La3[12]     0.1     0.0  0.1 -0.1  0.1  0.1  0.2   0.3 314.0  1.0\n",
        "La3[13]     0.1     0.0  0.1 -0.1  0.1  0.1  0.2   0.3 277.0  1.0\n",
        "La3[14]     0.1     0.0  0.1 -0.0  0.1  0.1  0.2   0.3 441.0  1.0\n",
        "La3[15]     0.1     0.0  0.1  0.0  0.1  0.1  0.2   0.3 376.0  1.0\n",
        "La3[16]     0.1     0.0  0.1 -0.0  0.1  0.1  0.2   0.3 417.0  1.0\n",
        "La3[17]     0.1     0.0  0.1 -0.1  0.1  0.1  0.2   0.2 277.0  1.0\n",
        "La3[18]     0.1     0.0  0.1 -0.1  0.1  0.1  0.1   0.2 234.0  1.0\n",
        "La3[19]     0.1     0.0  0.1 -0.0  0.1  0.1  0.2   0.3 362.0  1.0\n",
        "La3[20]     0.1     0.0  0.1 -0.1  0.1  0.1  0.2   0.3 401.0  1.0\n",
        "La3[21]     0.1     0.0  0.1 -0.1  0.1  0.1  0.2   0.2 345.0  1.0\n",
        "La3[22]     0.2     0.0  0.1  0.0  0.1  0.1  0.2   0.4 163.0  1.0\n",
        "La3[23]     0.1     0.0  0.1 -0.1  0.0  0.1  0.1   0.2 161.0  1.0\n",
        "Lsigma[0]   1.2     0.0  0.1  1.0  1.1  1.2  1.3   1.4 702.0  1.0\n",
        "Lsigma[1]   1.1     0.0  0.1  1.0  1.1  1.1  1.2   1.3 759.0  1.0\n",
        "Lsigma[2]   1.4     0.0  0.1  1.2  1.3  1.4  1.5   1.6 297.0  1.0\n",
        "Lsigma[3]   1.2     0.0  0.1  1.0  1.1  1.2  1.3   1.4 958.0  1.0\n",
        "Lsigma[4]   1.4     0.0  0.1  1.2  1.3  1.4  1.4   1.6 495.0  1.0\n",
        "Lsigma[5]   1.0     0.0  0.1  0.8  0.9  1.0  1.0   1.2 706.0  1.0\n",
        "Lsigma[6]   1.0     0.0  0.1  0.9  1.0  1.0  1.1   1.2 856.0  1.0\n",
        "Lsigma[7]   1.2     0.0  0.1  1.0  1.1  1.2  1.2   1.4 212.0  1.0\n",
        "Lsigma[8]   1.0     0.0  0.1  0.8  0.9  1.0  1.0   1.1 404.0  1.0\n",
        "Lsigma[9]   1.1     0.0  0.1  0.9  1.0  1.1  1.1   1.2 941.0  1.0\n",
        "Lsigma[10]  1.2     0.0  0.1  1.1  1.1  1.2  1.3   1.4 935.0  1.0\n",
        "Lsigma[11]  1.0     0.0  0.1  0.8  0.9  1.0  1.0   1.1 542.0  1.0\n",
        "Lsigma[12]  1.3     0.0  0.1  1.1  1.2  1.3  1.3   1.5 525.0  1.0\n",
        "Lsigma[13]  1.1     0.0  0.1  1.0  1.1  1.1  1.2   1.3 864.0  1.0\n",
        "Lsigma[14]  1.2     0.0  0.1  1.0  1.1  1.2  1.2   1.3 794.0  1.0\n",
        "Lsigma[15]  1.2     0.0  0.1  1.1  1.1  1.2  1.3   1.4 603.0  1.0\n",
        "Lsigma[16]  1.1     0.0  0.1  1.0  1.1  1.1  1.2   1.3 894.0  1.0\n",
        "Lsigma[17]  1.2     0.0  0.1  1.1  1.2  1.2  1.3   1.4 794.0  1.0\n",
        "Lsigma[18]  1.0     0.0  0.1  0.8  0.9  1.0  1.1   1.2 657.0  1.0\n",
        "Lsigma[19]  1.1     0.0  0.1  0.9  1.0  1.1  1.1   1.2 780.0  1.0\n",
        "Lsigma[20]  1.2     0.0  0.1  1.0  1.1  1.2  1.3   1.4 559.0  1.0\n",
        "Lsigma[21]  1.1     0.0  0.1  1.0  1.1  1.1  1.2   1.3 860.0  1.0\n",
        "Lsigma[22]  1.2     0.0  0.1  1.1  1.2  1.2  1.3   1.4 893.0  1.0\n",
        "Lsigma[23]  1.1     0.0  0.1  0.9  1.0  1.1  1.1   1.2 880.0  1.0\n",
        "Lma[0]      0.0     0.0  0.1 -0.1 -0.0  0.0  0.0   0.1 461.0  1.0\n",
        "Lma[1]      0.4     0.0  0.1  0.2  0.3  0.4  0.4   0.5 541.0  1.0\n",
        "Lma[2]      0.1     0.0  0.0  0.0  0.1  0.1  0.1   0.2 216.0  1.0\n",
        "Lsa[0]      0.1     0.0  0.1  0.0  0.1  0.1  0.2   0.3  79.0  1.0\n",
        "Lsa[1]      0.4     0.0  0.1  0.2  0.3  0.4  0.4   0.5 497.0  1.0\n",
        "Lsa[2]      0.1     0.0  0.0  0.0  0.0  0.0  0.1   0.2  47.0  1.1\n",
        "Lsa[3]     90.1     4.0 52.0 32.8 55.7 77.0108.1 234.1 171.0  1.0\n",
        "Lsa[4]     78.9     3.6 46.2 28.8 48.5 67.3 94.4 204.0 165.0  1.0\n",
        "Bmu[0]      0.2     0.0  0.1  0.1  0.2  0.2  0.2   0.3 327.0  1.0\n",
        "Bmu[1]      0.2     0.0  0.1  0.1  0.1  0.2  0.2   0.3 300.0  1.0\n",
        "Bmu[2]      0.2     0.0  0.1  0.1  0.2  0.2  0.2   0.3 327.0  1.0\n",
        "Bmu[3]      0.2     0.0  0.1  0.1  0.2  0.2  0.2   0.3 356.0  1.0\n",
        "Bmu[4]      0.2     0.0  0.1  0.1  0.2  0.2  0.3   0.3 647.0  1.0\n",
        "Bmu[5]      0.2     0.0  0.0  0.1  0.2  0.2  0.3   0.3 673.0  1.0\n",
        "Bmu[6]      0.2     0.0  0.1  0.1  0.2  0.2  0.3   0.4 547.0  1.0\n",
        "Bmu[7]      0.2     0.0  0.1  0.0  0.1  0.2  0.2   0.3 225.0  1.0\n",
        "Bmu[8]      0.2     0.0  0.1  0.1  0.2  0.2  0.3   0.3 538.0  1.0\n",
        "Bmu[9]      0.2     0.0  0.1  0.1  0.2  0.2  0.2   0.3 382.0  1.0\n",
        "Bmu[10]     0.2     0.0  0.0  0.1  0.2  0.2  0.2   0.3 617.0  1.0\n",
        "Bmu[11]     0.2     0.0  0.1  0.1  0.2  0.2  0.2   0.3 448.0  1.0\n",
        "Bmu[12]     0.2     0.0  0.1  0.1  0.2  0.2  0.3   0.3 707.0  1.0\n",
        "Bmu[13]     0.2     0.0  0.1  0.1  0.2  0.2  0.2   0.3 469.0  1.0\n",
        "Bmu[14]     0.2     0.0  0.1  0.1  0.2  0.2  0.2   0.3 425.0  1.0\n",
        "Bmu[15]     0.3     0.0  0.1  0.2  0.2  0.2  0.3   0.4 342.0  1.0\n",
        "Bmu[16]     0.3     0.0  0.1  0.2  0.2  0.3  0.3   0.4 214.0  1.0\n",
        "Bmu[17]     0.2     0.0  0.0  0.1  0.2  0.2  0.2   0.3 685.0  1.0\n",
        "Bmu[18]     0.2     0.0  0.1  0.1  0.2  0.2  0.3   0.4 332.0  1.0\n",
        "Bmu[19]     0.3     0.0  0.1  0.2  0.2  0.2  0.3   0.4 436.0  1.0\n",
        "Bmu[20]     0.2     0.0  0.1  0.1  0.2  0.2  0.3   0.4 269.0  1.0\n",
        "Bmu[21]     0.2     0.0  0.1  0.1  0.2  0.2  0.3   0.4 576.0  1.0\n",
        "Bmu[22]     0.2     0.0  0.0  0.1  0.2  0.2  0.2   0.3 655.0  1.0\n",
        "Bmu[23]     0.2     0.0  0.0  0.1  0.2  0.2  0.2   0.3 529.0  1.0\n",
        "Bsi[0]      0.6     0.0  0.1  0.5  0.6  0.6  0.7   0.9 186.0  1.0\n",
        "Bsi[1]      0.5     0.0  0.1  0.4  0.5  0.5  0.6   0.6 786.0  1.0\n",
        "Bsi[2]      0.9     0.0  0.1  0.7  0.8  0.9  0.9   1.1 774.0  1.0\n",
        "Bsi[3]      0.8     0.0  0.1  0.7  0.7  0.8  0.9   1.0 801.0  1.0\n",
        "Bsi[4]      1.0     0.0  0.1  0.8  0.9  1.0  1.1   1.2 946.0  1.0\n",
        "Bsi[5]      0.4     0.0  0.0  0.3  0.4  0.4  0.5   0.5 593.0  1.0\n",
        "Bsi[6]      0.9     0.0  0.1  0.8  0.9  0.9  1.0   1.2 464.0  1.0\n",
        "Bsi[7]      0.5     0.0  0.1  0.4  0.5  0.5  0.6   0.7 533.0  1.0\n",
        "Bsi[8]      0.7     0.0  0.1  0.5  0.6  0.6  0.7   0.8 590.0  1.0\n",
        "Bsi[9]      0.5     0.0  0.1  0.4  0.5  0.5  0.6   0.7 333.0  1.0\n",
        "Bsi[10]     0.6     0.0  0.1  0.5  0.5  0.6  0.6   0.7 985.0  1.0\n",
        "Bsi[11]     0.7     0.0  0.1  0.6  0.6  0.7  0.7   0.9 638.0  1.0\n",
        "Bsi[12]     0.7     0.0  0.1  0.5  0.6  0.7  0.7   0.8 786.0  1.0\n",
        "Bsi[13]     0.9     0.0  0.1  0.7  0.8  0.9  1.0   1.2 516.0  1.0\n",
        "Bsi[14]     0.8     0.0  0.1  0.6  0.7  0.8  0.8   1.0 917.0  1.0\n",
        "Bsi[15]     0.6     0.0  0.1  0.5  0.6  0.6  0.7   0.8 878.0  1.0\n",
        "Bsi[16]     0.5     0.0  0.1  0.4  0.5  0.5  0.5   0.6 847.0  1.0\n",
        "Bsi[17]     0.6     0.0  0.1  0.5  0.5  0.6  0.6   0.7 761.0  1.0\n",
        "Bsi[18]     0.6     0.0  0.1  0.5  0.6  0.6  0.7   0.8 452.0  1.0\n",
        "Bsi[19]     0.6     0.0  0.1  0.5  0.6  0.6  0.6   0.7 438.0  1.0\n",
        "Bsi[20]     1.0     0.0  0.1  0.8  1.0  1.0  1.1   1.3 704.0  1.0\n",
        "Bsi[21]     0.7     0.0  0.1  0.5  0.6  0.6  0.7   0.8 779.0  1.0\n",
        "Bsi[22]     0.6     0.0  0.1  0.5  0.5  0.6  0.6   0.7 814.0  1.0\n",
        "Bsi[23]     0.5     0.0  0.1  0.4  0.5  0.5  0.6   0.7 710.0  1.0\n",
        "Bmmu        0.2     0.0  0.0  0.2  0.2  0.2  0.2   0.3 385.0  1.0\n",
        "Bsmu        0.1     0.0  0.0  0.0  0.0  0.1  0.1   0.1  98.0  1.0\n",
        "mR2        -0.0     0.0  1.2 -1.9 -1.0 -0.1  1.0   1.9 863.0  1.0\n",
        "lp__      -867.0     5.2 30.7-917.5-889.6-869.8-848.4-800.7  35.0  1.1\n",
        "\n",
        "Samples were drawn using NUTS(diag_e) at Mon Dec  9 02:19:09 2013.\n",
        "For each parameter, n_eff is a crude measure of effective sample size,\n",
        "and Rhat is the potential scale reduction factor on split chains (at \n",
        "convergence, Rhat=1).\n"
       ]
      }
     ],
     "prompt_number": 10
    },
    {
     "cell_type": "markdown",
     "metadata": {},
     "source": [
      "Neither mR2 is identifiable. \n",
      "\n",
      "We now resort to a more ad-hoc approach. We compute median for each subject and look at correlations between tasks."
     ]
    },
    {
     "cell_type": "code",
     "collapsed": false,
     "input": [
      "def pearsonrci(r,n):\n",
      "    z= np.arctanh(r)\n",
      "    sse= ((n-3)/1.06)**-0.5\n",
      "    er= sse*stats.norm.ppf(0.975)\n",
      "    ci=np.array([-er,er])+z\n",
      "    return np.tanh(ci)"
     ],
     "language": "python",
     "metadata": {},
     "outputs": [],
     "prompt_number": 11
    },
    {
     "cell_type": "code",
     "collapsed": false,
     "input": [
      "D=np.array([ np.mean(b1,0),np.mean(b2,0),b3.mean(0),b4,b5])\n",
      "K=np.zeros((b1.shape[0],D.shape[0],D.shape[0]))*np.nan\n",
      "figure(figsize=(12,12))\n",
      "n=D.shape[0]\n",
      "clr=np.array(getColors(D.shape[1]))\n",
      "for i in range(n):\n",
      "    for j in range(n):\n",
      "        if i<=j: continue\n",
      "        subplot(n,n,i*n+j+1);plt.grid(axis='y')\n",
      "        valid = np.logical_and(~np.isnan(D[i,:]),~np.isnan(D[j,:]))\n",
      "        r,p=stats.spearmanr(D[i,valid],D[j,valid])\n",
      "        ci=np.round(pearsonrci(r,valid.sum()),2)\n",
      "        plt.title('%.3f [%.3f,%.3f]'%(np.round(r,2),ci[0],ci[1]))\n",
      "        print('centering{$%.2f$ $[%.2f,%.2f]$} &'%(np.round(r,2),ci[0],ci[1]))\n",
      "        plt.scatter(D[i,valid],D[j,valid],color=clr[valid,:])\n",
      "        #plt.gca().set_aspect('equal')\n",
      "    print '\\\\hline'"
     ],
     "language": "python",
     "metadata": {},
     "outputs": [
      {
       "output_type": "stream",
       "stream": "stdout",
       "text": [
        "\\hline\n",
        "centering{$0.16$ $[-0.28,0.55]$} &"
       ]
      },
      {
       "output_type": "stream",
       "stream": "stdout",
       "text": [
        "\n",
        "\\hline\n",
        "centering{$0.09$ $[-0.34,0.50]$} &"
       ]
      },
      {
       "output_type": "stream",
       "stream": "stdout",
       "text": [
        "\n",
        "centering{$0.20$ $[-0.24,0.57]$} &"
       ]
      },
      {
       "output_type": "stream",
       "stream": "stdout",
       "text": [
        "\n",
        "\\hline\n",
        "centering{$-0.10$ $[-0.50,0.34]$} &"
       ]
      },
      {
       "output_type": "stream",
       "stream": "stdout",
       "text": [
        "\n",
        "centering{$-0.12$ $[-0.52,0.32]$} &"
       ]
      },
      {
       "output_type": "stream",
       "stream": "stdout",
       "text": [
        "\n",
        "centering{$0.10$ $[-0.33,0.50]$} &"
       ]
      },
      {
       "output_type": "stream",
       "stream": "stdout",
       "text": [
        "\n",
        "\\hline\n",
        "centering{$0.09$ $[-0.35,0.49]$} &"
       ]
      },
      {
       "output_type": "stream",
       "stream": "stdout",
       "text": [
        "\n",
        "centering{$0.07$ $[-0.36,0.48]$} &"
       ]
      },
      {
       "output_type": "stream",
       "stream": "stdout",
       "text": [
        "\n",
        "centering{$0.29$ $[-0.15,0.63]$} &"
       ]
      },
      {
       "output_type": "stream",
       "stream": "stdout",
       "text": [
        "\n",
        "centering{$0.20$ $[-0.24,0.58]$} &"
       ]
      },
      {
       "output_type": "stream",
       "stream": "stdout",
       "text": [
        "\n",
        "\\hline\n"
       ]
      },
      {
       "metadata": {},
       "output_type": "display_data",
       "png": "[encoded data removed]",
       "text": [
        "<matplotlib.figure.Figure at 0xb04eb4c>"
       ]
      }
     ],
     "prompt_number": 12
    },
    {
     "cell_type": "markdown",
     "metadata": {},
     "source": [
      "This is getting us somewhere. Next, we look whether pooling does make much difference. We use rank correlation since we have some extreme values in the sample."
     ]
    },
    {
     "cell_type": "code",
     "collapsed": false,
     "input": [
      "vpn=range(351,381); vpn.remove(369); vpn.remove(370)\n",
      "w=loadStanFit('E2B2Wreg.fit')\n",
      "b2=(w['a0']-0.5)/w['a1']\n",
      "b2=np.median(b2,0)\n",
      "w=loadStanFit('E2B1L.fit')\n",
      "temp=np.median(w['a4'],0)\n",
      "b1=np.zeros(len(vpn))*np.nan\n",
      "b1[:10]=temp[:10];b1[11:]=temp[10:]\n",
      "w=loadStanFit('E2B3Breg.fit')\n",
      "temp=w['mu'][:,:,0]\n",
      "b3=np.zeros(len(vpn))*np.nan\n",
      "b3[~np.isnan(B3[:,0,0])]=np.median(temp,0)\n",
      "\n",
      "B3,B4,B5=loadDataB345(vpn,correct=False)\n",
      "b4=plotB5([B5],[vpn],exps=[2])\n",
      "plt.close()\n",
      "b5=np.median(b4[1][0],1)\n",
      "b4=np.median(b4[0][0],1)\n",
      "print b1.shape,b2.shape,b3.shape,b4.shape,b5.shape"
     ],
     "language": "python",
     "metadata": {},
     "outputs": [
      {
       "output_type": "stream",
       "stream": "stdout",
       "text": [
        " 0.199 CI [0.079, 0.320]\n",
        " 0.219 CI [0.153, 0.284]"
       ]
      },
      {
       "output_type": "stream",
       "stream": "stdout",
       "text": [
        "\n",
        "(28,) (28,) (28,) (28,) (28,)\n"
       ]
      }
     ],
     "prompt_number": 13
    },
    {
     "cell_type": "code",
     "collapsed": false,
     "input": [
      "D=np.array([ b1,b2,b3,b4,b5])\n",
      "K=np.zeros((b1.shape[0],D.shape[0],D.shape[0]))*np.nan\n",
      "figure(figsize=(12,12))\n",
      "n=D.shape[0]\n",
      "clr=np.array(getColors(D.shape[1]))\n",
      "for i in range(n):\n",
      "    for j in range(n):\n",
      "        if i<=j: continue\n",
      "        subplot(n,n,i*n+j+1);plt.grid(axis='y')\n",
      "        valid = np.logical_and(~np.isnan(D[i,:]),~np.isnan(D[j,:]))\n",
      "        r,p=stats.spearmanr(D[i,valid],D[j,valid])\n",
      "        ci=np.round(pearsonrci(r,valid.sum()),2)\n",
      "        plt.title('%.3f [%.3f,%.3f]'%(np.round(r,2),ci[0],ci[1]))\n",
      "        print('centering{$%.2f$ $[%.2f,%.2f]$} &'%(np.round(r,2),ci[0],ci[1]))\n",
      "        plt.scatter(D[i,valid],D[j,valid],color=clr[valid,:])\n",
      "        #plt.gca().set_aspect('equal')\n",
      "    print '\\\\hline'"
     ],
     "language": "python",
     "metadata": {},
     "outputs": [
      {
       "output_type": "stream",
       "stream": "stdout",
       "text": [
        "\\hline\n",
        "centering{$0.26$ $[-0.15,0.59]$} &"
       ]
      },
      {
       "output_type": "stream",
       "stream": "stdout",
       "text": [
        "\n",
        "\\hline\n",
        "centering{$0.23$ $[-0.20,0.59]$} &"
       ]
      },
      {
       "output_type": "stream",
       "stream": "stdout",
       "text": [
        "\n",
        "centering{$0.27$ $[-0.15,0.61]$} &"
       ]
      },
      {
       "output_type": "stream",
       "stream": "stdout",
       "text": [
        "\n",
        "\\hline\n",
        "centering{$0.29$ $[-0.17,0.64]$} &"
       ]
      },
      {
       "output_type": "stream",
       "stream": "stdout",
       "text": [
        "\n",
        "centering{$0.20$ $[-0.25,0.57]$} &"
       ]
      },
      {
       "output_type": "stream",
       "stream": "stdout",
       "text": [
        "\n",
        "centering{$-0.00$ $[-0.43,0.42]$} &"
       ]
      },
      {
       "output_type": "stream",
       "stream": "stdout",
       "text": [
        "\n",
        "\\hline\n",
        "centering{$-0.01$ $[-0.44,0.42]$} &"
       ]
      },
      {
       "output_type": "stream",
       "stream": "stdout",
       "text": [
        "\n",
        "centering{$-0.05$ $[-0.46,0.38]$} &"
       ]
      },
      {
       "output_type": "stream",
       "stream": "stdout",
       "text": [
        "\n",
        "centering{$0.38$ $[-0.05,0.69]$} &"
       ]
      },
      {
       "output_type": "stream",
       "stream": "stdout",
       "text": [
        "\n",
        "centering{$0.20$ $[-0.24,0.58]$} &"
       ]
      },
      {
       "output_type": "stream",
       "stream": "stdout",
       "text": [
        "\n",
        "\\hline\n"
       ]
      },
      {
       "metadata": {},
       "output_type": "display_data",
       "png": "[encoded data removed]",
       "text": [
        "<matplotlib.figure.Figure at 0xb4d492c>"
       ]
      }
     ],
     "prompt_number": 14
    },
    {
     "cell_type": "markdown",
     "metadata": {},
     "source": [
      "Results are similar to that with pooled parameters.\n",
      "\n",
      "Finally we look at the orange subject (15) in more detail."
     ]
    },
    {
     "cell_type": "code",
     "collapsed": false,
     "input": [
      "print b1[15],b2[15],b3[15],b4[15],b5[15]"
     ],
     "language": "python",
     "metadata": {},
     "outputs": [
      {
       "output_type": "stream",
       "stream": "stdout",
       "text": [
        "-0.128367001868 0.0416285847124 0.0654261818432 0.65685811232 0.764933909146\n"
       ]
      }
     ],
     "prompt_number": 15
    },
    {
     "cell_type": "code",
     "collapsed": false,
     "input": [
      "vp=15\n",
      "\n",
      "w=loadStanFit('E2B2Wreg.fit')\n",
      "b2=(w['a0']-0.5)/w['a1']\n",
      "b2=b2[vp,:]\n",
      "print sap(b2,50),sap(b2,2.5),sap(b2,97.5)\n",
      "w=loadStanFit('E2B1L.fit')\n",
      "b1=w['a4'][14,:]\n",
      "print sap(b1,50),sap(b1,2.5),sap(b1,97.5)\n",
      "w=loadStanFit('E2B3Breg.fit')\n",
      "temp=w['mu'][:,:,0]\n",
      "b3=np.zeros((len(vpn),temp.shape[0]))*np.nan\n",
      "b3[~np.isnan(B3[:,0,0]),:]=temp.T\n",
      "b3=b3[15,:]\n",
      "print sap(b3,50),sap(b3,2.5),sap(b3,97.5)"
     ],
     "language": "python",
     "metadata": {},
     "outputs": [
      {
       "output_type": "stream",
       "stream": "stdout",
       "text": [
        "0.041752391748 -16.9703652088 0.4479184437\n",
        "0.0384018183413"
       ]
      },
      {
       "output_type": "stream",
       "stream": "stdout",
       "text": [
        " -0.477211377789 0.752778553043\n",
        "0.232535924616"
       ]
      },
      {
       "output_type": "stream",
       "stream": "stdout",
       "text": [
        " -0.0566577451659 0.518082640009\n"
       ]
      }
     ],
     "prompt_number": 16
    }
   ],
   "metadata": {}
  }
 ]
}
